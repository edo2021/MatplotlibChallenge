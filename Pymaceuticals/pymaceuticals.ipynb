{
 "cells": [
  {
   "cell_type": "markdown",
   "metadata": {},
   "source": [
    "## Observations and Insights "
   ]
  },
  {
   "cell_type": "markdown",
   "metadata": {},
   "source": []
  },
  {
   "cell_type": "code",
   "execution_count": null,
   "metadata": {},
   "outputs": [],
   "source": [
    "# Dependencies and Setup\n",
    "import matplotlib.pyplot as plt\n",
    "import pandas as pd\n",
    "import numpy as np\n",
    "import scipy.stats as stats\n"
   ]
  },
  {
   "cell_type": "code",
   "execution_count": null,
   "metadata": {},
   "outputs": [],
   "source": [
    "# Study data files\n",
    "mouse_metadata_path = \"data/Mouse_metadata.csv\"\n",
    "study_results_path = \"data/Study_results.csv\"\n",
    "\n",
    "# Read the mouse data and the study results\n",
    "mouse_metadata = pd.read_csv(mouse_metadata_path)\n",
    "study_results = pd.read_csv(study_results_path)\n"
   ]
  },
  {
   "cell_type": "code",
   "execution_count": null,
   "metadata": {},
   "outputs": [],
   "source": [
    "mouse_metadata"
   ]
  },
  {
   "cell_type": "code",
   "execution_count": null,
   "metadata": {},
   "outputs": [],
   "source": [
    "study_results = pd.read_csv(study_results_path)\n"
   ]
  },
  {
   "cell_type": "code",
   "execution_count": null,
   "metadata": {},
   "outputs": [],
   "source": [
    "study_results"
   ]
  },
  {
   "cell_type": "code",
   "execution_count": null,
   "metadata": {},
   "outputs": [],
   "source": [
    "# Combine the data into a single dataset\n",
    "\n",
    "merged_metadata_studyResult_df = pd.merge(mouse_metadata, study_results, on=\"Mouse ID\", how=\"outer\")\n",
    "\n",
    "# Display the data table for preview\n",
    "merged_metadata_studyResult_df"
   ]
  },
  {
   "cell_type": "code",
   "execution_count": null,
   "metadata": {},
   "outputs": [],
   "source": [
    "# Checking the number of mice.\n",
    "number_Mice = len(mouse_metadata['Mouse ID'].unique())\n",
    "number_Mice"
   ]
  },
  {
   "cell_type": "code",
   "execution_count": null,
   "metadata": {},
   "outputs": [],
   "source": [
    "# Getting the duplicate mice by ID number that shows up for Mouse ID and Timepoint. \n",
    "\n",
    "\n",
    "DuplicatedMice=study_results[study_results.duplicated(\"Mouse ID\")]\n",
    "DuplicatedMice"
   ]
  },
  {
   "cell_type": "code",
   "execution_count": null,
   "metadata": {},
   "outputs": [],
   "source": [
    "# Optional: Get all the data for the duplicate mouse ID. \n",
    "merged_metadata_studyResult_df[merged_metadata_studyResult_df.duplicated('Mouse ID')]\n",
    "\n",
    "#mouse_metadata[mouse_metadata.duplicated('Mouse ID')]"
   ]
  },
  {
   "cell_type": "code",
   "execution_count": null,
   "metadata": {},
   "outputs": [],
   "source": [
    "# Create a clean DataFrame by dropping the duplicate mouse by its ID.\n",
    "cleanDataFrame = pd.DataFrame(merged_metadata_studyResult_df.drop_duplicates('Mouse ID'))\n",
    "cleanDataFrame"
   ]
  },
  {
   "cell_type": "code",
   "execution_count": null,
   "metadata": {},
   "outputs": [],
   "source": [
    "# Checking the number of mice in the clean DataFrame.\n",
    "MouseCleen_Number = len(cleanDataFrame[\"Mouse ID\"].unique())\n",
    "MouseCleen_Number\n"
   ]
  },
  {
   "cell_type": "markdown",
   "metadata": {},
   "source": [
    "## Summary Statistics"
   ]
  },
  {
   "cell_type": "code",
   "execution_count": null,
   "metadata": {},
   "outputs": [],
   "source": [
    "# Generate a summary statistics table of mean, median, variance, standard deviation, and SEM of the tumor volume for each regimen\n",
    "\n",
    "# Use groupby and summary statistical methods to calculate the following properties of each drug regimen: \n",
    "# mean, median, variance, standard deviation, and SEM of the tumor volume. \n",
    "# Assemble the resulting series into a single summary dataframe.\n",
    "\n",
    "Regimen_mean= cleanDataFrame.groupby('Drug Regimen')['Tumor Volume (mm3)'].mean()\n",
    "Regimen_median= cleanDataFrame.groupby('Drug Regimen')['Tumor Volume (mm3)'].median()\n",
    "Regimen_variance= cleanDataFrame.groupby('Drug Regimen')['Tumor Volume (mm3)'].var()\n",
    "Regimen_stdv= cleanDataFrame.groupby('Drug Regimen')['Tumor Volume (mm3)'].std()\n",
    "\n",
    "Regimen_sem= cleanDataFrame.groupby('Drug Regimen')['Tumor Volume (mm3)'].sem()\n",
    "\n",
    "summarystatisticsdataframe = pd.DataFrame({\"Mean\": Regimen_mean, \"Median\": Regimen_median, \"Variance\": Regimen_variance, \"Standard Deviation\": Regimen_stdv,\"SEM\": Regimen_sem})\n",
    "\n",
    "summarystatisticsdataframe\n",
    "\n",
    "\n",
    "\n"
   ]
  },
  {
   "cell_type": "code",
   "execution_count": null,
   "metadata": {},
   "outputs": [],
   "source": [
    "# Generate a summary statistics table of mean, median, variance, standard deviation, and SEM of the tumor volume for each regimen\n",
    "\n",
    "# Using the aggregation method, produce the same summary statistics in a single line\n",
    "cleanDataFrame.groupby(\"Drug Regimen\")[\"Tumor Volume (mm3)\"].describe()\n"
   ]
  },
  {
   "cell_type": "markdown",
   "metadata": {},
   "source": [
    "## Bar and Pie Charts"
   ]
  },
  {
   "cell_type": "code",
   "execution_count": null,
   "metadata": {},
   "outputs": [],
   "source": [
    "# Generate a bar plot showing the total number of measurements taken on each drug regimen using pandas.\n",
    "merged_clean_df= cleanDataFrame[[\"Drug Regimen\", \"Mouse ID\"]].groupby(\"Drug Regimen\")\n",
    "number_mouse = pd.DataFrame(merged_clean_df[\"Mouse ID\"].count())\n",
    "\n",
    "# Use DataFrame.plot() in order to create a bar chart of the data\n",
    "number_mouse.plot(kind=\"bar\", figsize=(10,5))\n",
    "\n",
    "#Set a title for the chart\n",
    "plt.title(\"Number of Measurement taken on each drug regimen\")\n",
    "plt.xlabel(\"Drug Regimen\")\n",
    "plt.ylabel(\" Points\")\n",
    "\n",
    "\n",
    "#Display chart\n",
    "plt.show()\n",
    "plt.tight_layout()\n"
   ]
  },
  {
   "cell_type": "code",
   "execution_count": null,
   "metadata": {
    "scrolled": true
   },
   "outputs": [],
   "source": [
    "# Generate a bar plot showing the total number of measurements taken on each drug regimen using pyplot.\n",
    "drug_regimen = number_mouse.index.tolist()\n",
    "\n",
    "mouse_count = number_mouse[\"Mouse ID\"].tolist()\n",
    "\n",
    "x_axis = np.arange(len(mouse_count))\n",
    "tick_locations = [value for value in x_axis]\n",
    "\n",
    "\n",
    "plt.figure(figsize=(10,3))\n",
    "plt.bar(x_axis, mouse_count, color=\"blue\", alpha=0.9, align=\"center\")\n",
    "plt.xticks(tick_locations, drug_regimen)\n",
    "\n",
    "plt.title(\"Total Number of measurement taken per drug regimen\")\n",
    "plt.xlabel(\"Drug regimens\")\n",
    "plt.ylabel(\"Mouse count\")\n",
    "\n",
    "# Set the limits of the x axis\n",
    "plt.xlim(-.60, 10)\n",
    "# Set the limits of the y axis\n",
    "plt.ylim(0, 50)\n",
    "plt.show()"
   ]
  },
  {
   "cell_type": "markdown",
   "metadata": {},
   "source": [
    "# Generate a pie plot showing the distribution of female versus male mice using pandas\n",
    "\n"
   ]
  },
  {
   "cell_type": "code",
   "execution_count": null,
   "metadata": {},
   "outputs": [],
   "source": [
    "groupBygender = mouse_metadata[[\"Mouse ID\",\"Sex\"]].groupby(\"Sex\")\n",
    "gender_count = groupBygender[\"Mouse ID\"].count()\n",
    "gender_count\n"
   ]
  },
  {
   "cell_type": "code",
   "execution_count": null,
   "metadata": {},
   "outputs": [],
   "source": [
    "explode=[0,0]\n",
    "gender_count.plot(kind=\"pie\", title=(\"female versus male\"),explode=explode,legend=True,autopct='%1.1f%%',startangle=110, shadow=False, fontsize=13, figsize=(5,5))\n",
    "\n",
    "plt.show()"
   ]
  },
  {
   "cell_type": "code",
   "execution_count": null,
   "metadata": {},
   "outputs": [],
   "source": [
    "# Generate a pie plot showing the distribution of female versus male mice using pyplot\n",
    "\n",
    "gender_count = mouse_metadata.groupby(\"Sex\")[\"Mouse ID\"].count().tolist()\n",
    "labels = [\"Female\", \"Male\"]\n",
    "colors = [\"r\", \"g\"]\n",
    "explode = (0, 0)\n",
    "\n",
    "plt.pie(gender_count ,explode=explode, labels=labels, colors=colors,autopct=\"%1.1f%%\", shadow=True, startangle=110)\n",
    "\n",
    "plt.axis(\"equal\")\n",
    "plt.show()\n"
   ]
  },
  {
   "cell_type": "markdown",
   "metadata": {},
   "source": [
    "## Quartiles, Outliers and Boxplots"
   ]
  },
  {
   "cell_type": "code",
   "execution_count": null,
   "metadata": {},
   "outputs": [],
   "source": [
    "# Calculate the final tumor volume of each mouse across four of the treatment regimens:  \n",
    "# Capomulin, Ramicane, Infubinol, and Ceftamin\n",
    "\n",
    "# Start by getting the last (greatest) timepoint for each mouse\n",
    "#regi_mouse_group = groupby([\"Drug Regimen\",\"Mouse ID\"])\n",
    "\n",
    "grouped_df = study_results.groupby(\"Mouse ID\")\n",
    "max_timepoint = grouped_df['Timepoint'].max().reset_index()\n",
    "\n",
    "max_timepoint_df = max_timepoint.rename(columns={\"Timepoint\":\"Timepoint Max\"})\n",
    "\n",
    "    "
   ]
  },
  {
   "cell_type": "code",
   "execution_count": null,
   "metadata": {},
   "outputs": [],
   "source": [
    "# Merge this group df with the original dataframe to get the tumor volume at the last timepoint\n",
    "merged_max = pd.merge(cleanDataFrame, max_timepoint_df,on=\"Mouse ID\", how=\"left\")\n",
    "merged_max"
   ]
  },
  {
   "cell_type": "code",
   "execution_count": null,
   "metadata": {},
   "outputs": [],
   "source": [
    "# Put treatments into a list for for loop (and later for plot labels)\n",
    "drug_list = ['Ceftamin', 'Ramicane','Infubinol','Capomulin']\n",
    "\n",
    "# Create empty list to fill with tumor vol data (for plotting)\n",
    "tumor_vol = np.arange(0, 70, 5)\n",
    "\n",
    "# Calculate the IQR and quantitatively determine if there are any potential outliers. \n",
    " \n",
    "# Locate the rows which contain mice on each drug and get the tumor volumes\n",
    "\n",
    "drug_sorted = merged_max[(merged_max['Drug Regimen']== \"Ceftamin\")\n",
    "                      |(merged_max['Drug Regimen']==\"Ramicane\")\n",
    "                      |(merged_max['Drug Regimen']==\"Infubinol\")\n",
    "                      |(merged_max['Drug Regimen']==\"Capomulin\")]\n",
    "\n",
    "tumor_max = drug_sorted.loc[(drug_sorted[\"Timepoint\"])==(drug_sorted[\"Timepoint Max\"])]\n",
    "\n",
    "# add subset\n",
    "Ceftamin = tumor_max[tumor_max['Drug Regimen']== \"Ceftamin\"]['Tumor Volume (mm3)']\n",
    "Ramicane = tumor_max[tumor_max['Drug Regimen']== \"Ramicane\"]['Tumor Volume (mm3)']\n",
    "Infubinol = tumor_max[tumor_max['Drug Regimen']== \"Infubinol\"]['Tumor Volume (mm3)']\n",
    "Capomulin = tumor_max[tumor_max['Drug Regimen']== \"Capomulin\"]['Tumor Volume (mm3)']\n",
    "\n",
    "drug_subset = [Ceftamin,Ramicane,Infubinol,Capomulin]\n",
    "# Determine outliers using upper and lower quantiles\n",
    "quartiles = tumor_max['Tumor Volume (mm3)'].quantile([.25,.5,.75])\n",
    "lowerq = quartiles[0.25]\n",
    "upperq = quartiles[0.75]\n",
    "iqr = upperq-lowerq\n",
    "\n",
    "print(f\"The lower quartile of max tumor volume of mice tested in given drug regimens is: {lowerq}\")\n",
    "print(f\"The upper quartile of max tumor volume of mice tested in given drug regimens is: {upperq}\")\n",
    "print(f\"The interquartile range of max tumor volume of mice tested in given drug regimens is: {iqr}\")\n",
    "print(f\"The the median of max tumor volume of mice stested in given drug regimens is : {quartiles[0.5]} \")\n",
    "\n",
    "lower_bound = lowerq - (1.5*iqr)\n",
    "upper_bound = upperq + (1.5*iqr)\n",
    "print(f\"Values below {lower_bound} could be outliers.\")\n",
    "print(f\"Values above {upper_bound} could be outliers.\")\n"
   ]
  },
  {
   "cell_type": "code",
   "execution_count": null,
   "metadata": {},
   "outputs": [],
   "source": [
    "# Generate a box plot of the final tumor volume of each mouse across four regimens of interest\n",
    "fig1, ax1 = plt.subplots()\n",
    "\n",
    "ax1.set_title('Drug Regimens')\n",
    "ax1.set_ylabel('Final Tumor Volume (mm3)')\n",
    "ax1.boxplot(drug_subset, labels=drug_list)\n",
    "plt.show()\n",
    "\n"
   ]
  },
  {
   "cell_type": "markdown",
   "metadata": {},
   "source": [
    "## Line and Scatter Plots"
   ]
  },
  {
   "cell_type": "code",
   "execution_count": null,
   "metadata": {},
   "outputs": [],
   "source": [
    "# Generate a line plot of tumor volume vs. time point for a mouse treated with Capomulin\n",
    "capomulin_df = merged_max[(merged_max['Drug Regimen']== \"Capomulin\")]\n",
    "mouseid_capomulin = capomulin_df[capomulin_df['Mouse ID']=='g288'][['Timepoint','Tumor Volume (mm3)']].set_index('Timepoint')\n",
    "\n",
    "mouseid_capomulin.plot(figsize=(10, 8), linewidth=20, color='red')\n",
    "plt.show()"
   ]
  },
  {
   "cell_type": "code",
   "execution_count": null,
   "metadata": {
    "scrolled": true
   },
   "outputs": [],
   "source": [
    "# Generate a scatter plot of average tumor volume vs. mouse weight for the Capomulin regimen\n",
    "average_tumor = capomulin_df.groupby(['Mouse ID','Weight (g)'])['Tumor Volume (mm3)'].mean().reset_index()\n",
    "\n",
    "average_tumor.plot(kind=\"scatter\", x=\"Weight (g)\", y=\"Tumor Volume (mm3)\", grid=True, figsize=(8,8),\n",
    "              title=\" Mouse Weight Vs. Average Tumor Volume\")\n",
    "\n",
    "plt.show()"
   ]
  },
  {
   "cell_type": "markdown",
   "metadata": {},
   "source": [
    "## Correlation and Regression"
   ]
  },
  {
   "cell_type": "code",
   "execution_count": null,
   "metadata": {},
   "outputs": [],
   "source": [
    "# Calculate the correlation coefficient and linear regression model \n",
    "# for mouse weight and average tumor volume for the Capomulin regimen\n",
    "\n",
    "avg_tumor = average_tumor['Tumor Volume (mm3)']\n",
    "mouse_weight = average_tumor['Weight (g)']\n",
    "correlation = stats.pearsonr(mouse_weight,avg_tumor)\n",
    "print(f\"The correlation between mouse weight and average tumor volume for the Capomulin regimen is {round(correlation[0],2)}\")\n",
    "\n"
   ]
  },
  {
   "cell_type": "code",
   "execution_count": null,
   "metadata": {},
   "outputs": [],
   "source": [
    "x_values = avg_tumor\n",
    "y_values = mouse_weight\n",
    "\n",
    "(slope, intercept, rvalue, pvalue, stderr) = stats.linregress(x_values, y_values)\n",
    "regress_values = x_values * slope + intercept\n",
    "line_eq = \"y = \" + str(round(slope,2)) + \"x + \" + str(round(intercept,2))\n",
    "plt.scatter(x_values,y_values)\n",
    "plt.plot(x_values,regress_values,\"g\")\n",
    "plt.annotate(line_eq,(45,30),fontsize=5,color=\"red\")\n",
    "plt.xlabel('Averega Tumor Volume')\n",
    "plt.ylabel('Mouse Weight')\n",
    "plt.show()\n"
   ]
  },
  {
   "cell_type": "code",
   "execution_count": null,
   "metadata": {},
   "outputs": [],
   "source": []
  }
 ],
 "metadata": {
  "anaconda-cloud": {},
  "kernelspec": {
   "display_name": "Python 3",
   "language": "python",
   "name": "python3"
  },
  "language_info": {
   "codemirror_mode": {
    "name": "ipython",
    "version": 3
   },
   "file_extension": ".py",
   "mimetype": "text/x-python",
   "name": "python",
   "nbconvert_exporter": "python",
   "pygments_lexer": "ipython3",
   "version": "3.6.10"
  }
 },
 "nbformat": 4,
 "nbformat_minor": 4
}
